{
 "cells": [
  {
   "cell_type": "code",
   "execution_count": null,
   "id": "d91a7e6e",
   "metadata": {},
   "outputs": [],
   "source": [
    "import jax.numpy as jnp\n",
    "import jax\n",
    "from jax import random, jit\n",
    "from jax.config import config\n",
    "import numpy as np\n",
    "import matplotlib.pyplot as plt\n",
    "\n",
    "import encoding\n",
    "import encryption\n",
    "import keygen\n",
    "from interpreter import homomorphic\n",
    "\n",
    "config.update('jax_enable_x64', True)"
   ]
  },
  {
   "cell_type": "code",
   "execution_count": 2,
   "id": "678c7694",
   "metadata": {},
   "outputs": [
    {
     "name": "stdout",
     "output_type": "stream",
     "text": [
      "n=32, q=16777216, delta=16, p=33554432, n_mult=4\n"
     ]
    }
   ],
   "source": [
    "# ciphertext polynomial degree\n",
    "n = 32\n",
    "\n",
    "# bits precision of decimal\n",
    "delta = 1 << 4\n",
    "\n",
    "# bits precision of integer + bits precision of decimal\n",
    "q0 = 1 << 8\n",
    "\n",
    "# number of multiplications\n",
    "n_mult = 4\n",
    "\n",
    "# ciphertext modulus\n",
    "q = q0*(delta**n_mult)\n",
    "\n",
    "# relinearization modulus\n",
    "p = 1 << 25\n",
    "print(f'n={n}, q={q}, delta={delta}, p={p}, n_mult={n_mult}')"
   ]
  },
  {
   "cell_type": "code",
   "execution_count": 3,
   "id": "af75fc65",
   "metadata": {},
   "outputs": [],
   "source": [
    "def f1(x):\n",
    "    return x*x*x - 3*x*x - x + 4\n",
    "\n",
    "\n",
    "def f2(x):\n",
    "    return  -x*(x - 4) + 3*x*(x - 2)*(x + 2) + 4 - 2 + x\n",
    "\n",
    "def f3(x):\n",
    "    return jnp.exp(x) - 6"
   ]
  },
  {
   "cell_type": "markdown",
   "id": "81d39056",
   "metadata": {},
   "source": [
    "# Select a function to run homomorphically:"
   ]
  },
  {
   "cell_type": "code",
   "execution_count": 4,
   "id": "f6211b72",
   "metadata": {},
   "outputs": [],
   "source": [
    "f = f1"
   ]
  },
  {
   "cell_type": "markdown",
   "id": "72beda4a",
   "metadata": {},
   "source": [
    "# Run and visualize the output of the homomorphic function"
   ]
  },
  {
   "cell_type": "code",
   "execution_count": 5,
   "id": "19744540",
   "metadata": {},
   "outputs": [
    {
     "name": "stderr",
     "output_type": "stream",
     "text": [
      "WARNING:absl:No GPU/TPU found, falling back to CPU. (Set TF_CPP_MIN_LOG_LEVEL=0 and rerun for more info.)\n"
     ]
    },
    {
     "data": {
      "image/png": "[encoded data removed]",
      "text/plain": [
       "<Figure size 432x288 with 1 Axes>"
      ]
     },
     "metadata": {
      "needs_background": "light"
     },
     "output_type": "display_data"
    }
   ],
   "source": [
    "# JAX requires you input random seeds to all functions requiring some randomness.\n",
    "# Generate these seeds:\n",
    "key = jax.random.PRNGKey(5)\n",
    "key, keygen_key, encoding_key = random.split(key, 3)\n",
    "\n",
    "# Run Keygen\n",
    "pk, sk, ek = keygen.keygen(keygen_key, n, q, p)\n",
    "\n",
    "# Encode and Encrypt and input numpy array `x`\n",
    "x = np.linspace(-2,2,n//2)\n",
    "x_pt = encoding.encode(encoding_key, x, delta)\n",
    "x_ct = encryption.encrypt(x_pt, pk, q, n)\n",
    "\n",
    "# Apply the homomorphic function transformation producing a homomorphic function `f_he`\n",
    "# Note that the homomorphic function outputs a ciphertext and a ciphertext modulus `q_out` used for decryption\n",
    "f_he = homomorphic(f, p=p, q=q, n=n, ek=ek, delta=delta, n_mult=n_mult, order=3)\n",
    "y_ct, q_out = f_he(x_ct)\n",
    "\n",
    "# Decrypt and Decode the result of the homomorphic function\n",
    "y_pt = encryption.decrypt(y_ct, sk, q_out, n)\n",
    "y_approx = encoding.decode(y_pt, delta, n)\n",
    "\n",
    "plt.plot(x, f(x), label='Original')\n",
    "plt.plot(x, y_approx, label='Homomorphic')\n",
    "plt.legend()\n",
    "plt.grid()"
   ]
  },
  {
   "cell_type": "markdown",
   "id": "1f940cd4",
   "metadata": {},
   "source": [
    "# Benchmark Performance"
   ]
  },
  {
   "cell_type": "markdown",
   "id": "1004b042",
   "metadata": {},
   "source": [
    "First apply the `jax.jit` and `homomorphic` transformations. \n",
    "\n",
    "Note that the first time a jit-ed function is run, there is added time to do the compilation. This is the reason the jit-ed functions are called once before benchmarking.\n",
    "\n",
    "Also note that jit-ing the homomorphic function can take some time so be patient."
   ]
  },
  {
   "cell_type": "code",
   "execution_count": 6,
   "id": "3bb83fa4",
   "metadata": {},
   "outputs": [],
   "source": [
    "f_jit = jax.jit(f)\n",
    "\n",
    "f_he = homomorphic(f3, p=p, q=q, n=n, ek=ek, delta=delta, n_mult=n_mult, order=3)\n",
    "f_he_jit = jax.jit(f_he)\n",
    "\n",
    "_ = f_he_jit(x_ct)\n",
    "_ = f_jit(x)"
   ]
  },
  {
   "cell_type": "markdown",
   "id": "e51a464d",
   "metadata": {},
   "source": [
    "Benchmark each of the functions with `timeit`"
   ]
  },
  {
   "cell_type": "code",
   "execution_count": 9,
   "id": "52b4719d",
   "metadata": {},
   "outputs": [
    {
     "name": "stdout",
     "output_type": "stream",
     "text": [
      "3.96 s ± 31.8 ms per loop (mean ± std. dev. of 7 runs, 1 loop each)\n"
     ]
    }
   ],
   "source": [
    "%%timeit\n",
    "_ = f_he(x_ct)"
   ]
  },
  {
   "cell_type": "code",
   "execution_count": 10,
   "id": "41558ffa",
   "metadata": {},
   "outputs": [
    {
     "name": "stdout",
     "output_type": "stream",
     "text": [
      "485 µs ± 748 ns per loop (mean ± std. dev. of 7 runs, 1,000 loops each)\n"
     ]
    }
   ],
   "source": [
    "%%timeit\n",
    "_ = f_he_jit(x_ct)"
   ]
  },
  {
   "cell_type": "code",
   "execution_count": 7,
   "id": "7b79881e",
   "metadata": {},
   "outputs": [
    {
     "name": "stdout",
     "output_type": "stream",
     "text": [
      "2.73 µs ± 4.83 ns per loop (mean ± std. dev. of 7 runs, 100,000 loops each)\n"
     ]
    }
   ],
   "source": [
    "%%timeit\n",
    "_ = f(x)"
   ]
  },
  {
   "cell_type": "code",
   "execution_count": 8,
   "id": "bd483690",
   "metadata": {},
   "outputs": [
    {
     "name": "stdout",
     "output_type": "stream",
     "text": [
      "1.77 µs ± 28.9 ns per loop (mean ± std. dev. of 7 runs, 1,000,000 loops each)\n"
     ]
    }
   ],
   "source": [
    "%%timeit\n",
    "_ = f_jit(x)"
   ]
  }
 ],
 "metadata": {
  "kernelspec": {
   "display_name": "Python 3 (ipykernel)",
   "language": "python",
   "name": "python3"
  },
  "language_info": {
   "codemirror_mode": {
    "name": "ipython",
    "version": 3
   },
   "file_extension": ".py",
   "mimetype": "text/x-python",
   "name": "python",
   "nbconvert_exporter": "python",
   "pygments_lexer": "ipython3",
   "version": "3.9.1"
  }
 },
 "nbformat": 4,
 "nbformat_minor": 5
}
